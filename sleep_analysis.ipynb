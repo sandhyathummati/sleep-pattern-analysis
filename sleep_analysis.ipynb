{
 "cells": [
  {
   "cell_type": "markdown",
   "id": "bfe99775",
   "metadata": {},
   "source": [
    "# 💤 Sleep Pattern Data Analysis"
   ]
  },
  {
   "cell_type": "code",
   "execution_count": null,
   "id": "feb632e5",
   "metadata": {},
   "outputs": [],
   "source": [
    "\n",
    "import pandas as pd\n",
    "import matplotlib.pyplot as plt\n",
    "import seaborn as sns\n",
    "\n",
    "# Load data\n",
    "df = pd.read_csv(\"sleep_data.csv\")\n",
    "\n",
    "# Basic info\n",
    "print(\"First 5 rows:\\n\", df.head())\n",
    "print(\"\\nSummary:\\n\", df.describe())\n",
    "\n",
    "# Convert time columns\n",
    "df['Date'] = pd.to_datetime(df['Date'])\n",
    "\n",
    "# Average sleep duration\n",
    "avg_sleep = df['Hours_Slept'].mean()\n",
    "print(f\"\\nAverage Sleep Hours: {avg_sleep:.2f}\")\n",
    "\n",
    "# Plot hours slept by day\n",
    "plt.figure(figsize=(8,5))\n",
    "sns.barplot(data=df, x=\"Day\", y=\"Hours_Slept\", palette=\"coolwarm\")\n",
    "plt.title(\"Sleep Hours by Day\")\n",
    "plt.xticks(rotation=45)\n",
    "plt.show()\n",
    "\n",
    "# Sleep quality count\n",
    "plt.figure(figsize=(6,4))\n",
    "sns.countplot(data=df, x=\"Quality\", palette=\"pastel\")\n",
    "plt.title(\"Sleep Quality Distribution\")\n",
    "plt.show()\n",
    "\n",
    "# Trend over time\n",
    "plt.figure(figsize=(10,5))\n",
    "plt.plot(df['Date'], df['Hours_Slept'], marker=\"o\")\n",
    "plt.title(\"Sleep Hours Over Time\")\n",
    "plt.xlabel(\"Date\")\n",
    "plt.ylabel(\"Hours Slept\")\n",
    "plt.grid(True)\n",
    "plt.show()\n"
   ]
  }
 ],
 "metadata": {},
 "nbformat": 4,
 "nbformat_minor": 5
}
